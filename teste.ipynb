{
 "cells": [
  {
   "cell_type": "code",
   "execution_count": 1,
   "metadata": {},
   "outputs": [],
   "source": [
    "import pandas as pd\n",
    "import matplotlib.pyplot as plt\n",
    "import sqlite3\n",
    "import seaborn as sns\n",
    "import feature_selection as fs\n",
    "from sklearn.model_selection import train_test_split\n",
    "from sklearn.tree import DecisionTreeClassifier\n",
    "from sklearn.metrics import accuracy_score\n",
    "from sklearn.preprocessing import LabelEncoder\n",
    "from sklearn.preprocessing import StandardScaler\n",
    "from sklearn.ensemble import RandomForestClassifier, GradientBoostingClassifier\n",
    "from sklearn.linear_model import LogisticRegression\n",
    "from sklearn.model_selection import GridSearchCV, train_test_split\n",
    "from sklearn.svm import SVC\n",
    "import prep_utils as pu\n",
    "import numpy as np\n",
    "from sklearn.model_selection import train_test_split\n",
    "from sklearn.tree import DecisionTreeClassifier\n",
    "from sklearn.metrics import accuracy_score, roc_auc_score\n",
    "from sklearn.preprocessing import LabelEncoder\n",
    "from sklearn.preprocessing import StandardScaler\n",
    "from sklearn.ensemble import RandomForestClassifier, GradientBoostingClassifier\n",
    "from sklearn.linear_model import LogisticRegression\n",
    "from sklearn.svm import SVC\n",
    "from sklearn.model_selection import cross_val_score\n",
    "from sklearn.model_selection import GridSearchCV\n",
    "from sklearn.naive_bayes import MultinomialNB\n",
    "from sklearn.neighbors import KNeighborsClassifier\n",
    "from sklearn.preprocessing import MinMaxScaler\n",
    "from scipy.stats import pointbiserialr\n",
    "from sklearn.feature_selection import RFE\n",
    "\n",
    "PAST_YEARS = 1\n",
    "TEST_YEAR = 10"
   ]
  },
  {
   "cell_type": "code",
   "execution_count": 2,
   "metadata": {},
   "outputs": [],
   "source": [
    "db = sqlite3.connect(\"db/ac.db\")\n",
    "db_cur = db.cursor()\n",
    "\n",
    "[df_awards, df_coaches, df_players_teams, df_players, df_series_post, df_teams_post, df_teams] = pu.db_to_pandas(db)"
   ]
  },
  {
   "cell_type": "code",
   "execution_count": 3,
   "metadata": {},
   "outputs": [
    {
     "name": "stdout",
     "output_type": "stream",
     "text": [
      "Dropping divID in \u001b[1mTeams\u001b[0m...\n"
     ]
    }
   ],
   "source": [
    "# Transform all possible attributes into percentages. (Made / Attempted) & (Offensive & Defensive Rebound %)\n",
    "df_new_teams = pu.prepare_teams(df_teams,df_teams_post,PAST_YEARS)\n",
    "\n",
    "df_new_teams = fs.fs_teams(df_new_teams)\n",
    "\n",
    "df_new_teams = pu.playoff_rank(df_new_teams,df_teams,PAST_YEARS)\n",
    "df_team_results = df_new_teams[[\"year\",\"tmID\",\"confID\",\"playoff\",\"rank\",\"team_playoffs_count\",\"playoff_rank\"]]\n"
   ]
  },
  {
   "cell_type": "code",
   "execution_count": 4,
   "metadata": {},
   "outputs": [
    {
     "name": "stdout",
     "output_type": "stream",
     "text": [
      "Dropping Attribute lgID in \u001b[1mCoaches\u001b[0m...\n",
      "Creating attribute coach previous regular season win ratio...\n",
      "Creating attribute coach playoffs win ratio...\n",
      "Creating attribute coach playoffs count...\n",
      "Creating attribute coach awards count...\n",
      "Dropping attribute post_wins..\n",
      "Dropping attribute post_losses..\n",
      "Dropping attribute won..\n",
      "Dropping attribute lost..\n",
      "\n",
      "\u001b[1mCoaches Null Verification:\u001b[0m\n",
      "year                    0\n",
      "tmID                    0\n",
      "coachID                 0\n",
      "coach_reg_wr            0\n",
      "coach_po_wr             0\n",
      "coach_playoffs_count    0\n",
      "coach_awards            0\n",
      "dtype: int64\n"
     ]
    }
   ],
   "source": [
    "df_new_coaches = pu.prepare_coaches(df_coaches, df_awards,PAST_YEARS)\n",
    "df_new_coaches = pu.group_coaches(df_new_coaches)\n",
    "df_new_coaches.drop(\"coachID\", axis = 1, inplace = True)\n",
    "\n",
    "df_final_coaches = df_new_coaches.copy()\n",
    "df_final_coaches.columns = df_final_coaches.columns.str.lower()"
   ]
  },
  {
   "cell_type": "code",
   "execution_count": 5,
   "metadata": {},
   "outputs": [
    {
     "name": "stdout",
     "output_type": "stream",
     "text": [
      "Dropping Attribute lgID in \u001b[1mPlayers_Teams\u001b[0m...\n"
     ]
    }
   ],
   "source": [
    "df_new_players_teams = pu.prepare_player_teams(df_players_teams,df_awards,PAST_YEARS)\n",
    "# How the team performed in the previous year\n",
    "previous_team_ratings = pu.final_team_ratings(df_players_teams,df_awards, df_players, df_teams, PAST_YEARS)\n",
    "\n",
    "# How the players performed in the previous year\n",
    "previous_team_player_ratings = pu.final_player_team_ratings(df_teams, df_players_teams, df_awards, df_players, PAST_YEARS)\n",
    "\n",
    "\n",
    "\n",
    "df_players = df_new_players_teams.copy()\n",
    "df_players = fs.fs_players(df_players,0.2)\n",
    "df_players = df_players[df_players['year'] != 1]\n",
    "\n",
    "\n",
    "df_team_results.columns = df_team_results.columns.str.lower()\n",
    "merged_data = pd.merge(df_players, df_team_results, on=['tmid', 'year'], how='left')\n",
    "merged_data = pd.merge(merged_data, df_final_coaches, on=['tmid', 'year'], how='left')\n",
    "merged_data = pd.merge(merged_data, previous_team_ratings, on=['tmid', 'year'], how='left')\n",
    "merged_data = pd.merge(merged_data, previous_team_player_ratings, on=['tmid', 'year'], how='left')\n"
   ]
  },
  {
   "cell_type": "markdown",
   "metadata": {},
   "source": [
    "#### Point Bisserial Correlation \n",
    "We will use this to check correlation between continuous attributes & target\n"
   ]
  },
  {
   "cell_type": "code",
   "execution_count": 6,
   "metadata": {},
   "outputs": [
    {
     "name": "stdout",
     "output_type": "stream",
     "text": [
      "team_players_rating: 73.83% correlation\n",
      "total_assists: 36.39% correlation\n",
      "playoff_rank: 33.90% correlation\n",
      "total_gs: 32.71% correlation\n",
      "total_points: 31.77% correlation\n",
      "coach_po_wr: 31.26% correlation\n",
      "total_minutes: 31.16% correlation\n",
      "coach_reg_wr: 30.47% correlation\n",
      "total_turnovers: 28.44% correlation\n",
      "player_awards: 27.79% correlation\n",
      "total_blocks: 26.30% correlation\n",
      "team_rating: 25.52% correlation\n",
      "total_steals: 24.90% correlation\n",
      "coach_playoffs_count: 24.50% correlation\n",
      "total_pf: 23.19% correlation\n",
      "team_playoffs_count: 19.10% correlation\n",
      "rank: 18.01% correlation\n",
      "total_drebounds_pct: 12.93% correlation\n",
      "total_orebounds_pct: 12.93% correlation\n",
      "coach_awards: 12.93% correlation\n",
      "total_dq: 12.35% correlation\n",
      "total_fg_pct: 10.58% correlation\n",
      "total_gp: 10.20% correlation\n",
      "total_ft_pct: 4.27% correlation\n",
      "total_three_pct: 3.71% correlation\n"
     ]
    }
   ],
   "source": [
    "fs.bisserial_corr(merged_data)"
   ]
  },
  {
   "cell_type": "markdown",
   "metadata": {},
   "source": [
    "### Dividing the dataset in both train & test\n",
    "We will be using year 10 and test and the remaining ones to train the model"
   ]
  },
  {
   "cell_type": "code",
   "execution_count": 7,
   "metadata": {},
   "outputs": [],
   "source": [
    "label_encoder = LabelEncoder()\n",
    "merged_data['tmid'] = label_encoder.fit_transform(merged_data['tmid'])\n",
    "merged_data['confid'] = label_encoder.fit_transform(merged_data['confid'])\n",
    "\n",
    "x = merged_data.drop('playoff', axis=1)\n",
    "y = merged_data['playoff']\n",
    "\n",
    "x_train = merged_data[merged_data['year'].between(0, TEST_YEAR - 1)].drop('playoff', axis=1)\n",
    "y_train = merged_data[merged_data['year'].between(0, TEST_YEAR - 1)]['playoff']\n",
    "\n",
    "x_test = merged_data[merged_data['year'] == TEST_YEAR].drop('playoff', axis=1)\n",
    "y_test = merged_data[merged_data['year'] == TEST_YEAR]['playoff']"
   ]
  },
  {
   "cell_type": "markdown",
   "metadata": {},
   "source": [
    "### RFE\n",
    "We will running RFE on the different models to find out which features produce the best results"
   ]
  },
  {
   "cell_type": "code",
   "execution_count": 8,
   "metadata": {},
   "outputs": [
    {
     "name": "stdout",
     "output_type": "stream",
     "text": [
      "\u001b[1mModel: Random Forest\u001b[0m\n",
      "Selected Features: ['team_players_rating', 'total_orebounds_pct', 'total_drebounds_pct', 'team_rating', 'tmid', 'total_assists', 'total_gs', 'year', 'total_turnovers', 'total_points', 'coach_reg_wr']\n",
      "Accuracy:0.9230769230769231\n",
      "\n",
      "Selected Features: ['team_players_rating', 'total_orebounds_pct', 'total_drebounds_pct', 'team_rating', 'total_three_pct', 'total_assists', 'tmid', 'total_gs', 'year', 'total_turnovers', 'total_points', 'coach_reg_wr']\n",
      "Accuracy:0.9230769230769231\n",
      "\n",
      "Selected Features: ['team_players_rating', 'total_orebounds_pct', 'total_drebounds_pct', 'team_rating', 'total_three_pct', 'total_assists', 'tmid', 'total_gs', 'year', 'total_turnovers', 'total_minutes', 'total_points', 'coach_reg_wr']\n",
      "Accuracy:0.9230769230769231\n",
      "\n",
      "\u001b[1mModel: Logistic Regression\u001b[0m\n",
      "Selected Features: ['rank', 'coach_playoffs_count', 'total_dq', 'team_players_rating', 'coach_awards', 'playoff_rank', 'team_rating', 'tmid', 'total_three_pct', 'team_playoffs_count', 'total_gs', 'year', 'coach_po_wr', 'total_fg_pct', 'confid', 'coach_reg_wr', 'player_awards']\n",
      "Accuracy:0.8461538461538461\n",
      "\n",
      "Selected Features: ['rank', 'coach_playoffs_count', 'total_dq', 'team_players_rating', 'coach_awards', 'playoff_rank', 'team_rating', 'total_ft_pct', 'tmid', 'total_three_pct', 'team_playoffs_count', 'total_gs', 'year', 'coach_po_wr', 'total_fg_pct', 'confid', 'coach_reg_wr', 'player_awards']\n",
      "Accuracy:0.8461538461538461\n",
      "\n",
      "Selected Features: ['team_rating', 'total_drebounds_pct', 'total_ft_pct', 'player_awards', 'tmid', 'total_gs', 'year', 'rank', 'coach_playoffs_count', 'total_dq', 'team_players_rating', 'coach_awards', 'team_playoffs_count', 'total_fg_pct', 'playoff_rank', 'total_three_pct', 'coach_po_wr', 'confid', 'coach_reg_wr']\n",
      "Accuracy:0.8461538461538461\n",
      "\n",
      "\u001b[1mModel: Support Vector Machine\u001b[0m\n",
      "Selected Features: ['coach_playoffs_count', 'team_players_rating', 'coach_awards', 'total_three_pct', 'tmid', 'year', 'total_fg_pct']\n",
      "Accuracy:0.8461538461538461\n",
      "\n",
      "Selected Features: ['rank', 'coach_playoffs_count', 'team_players_rating', 'coach_awards', 'playoff_rank', 'total_orebounds_pct', 'total_three_pct', 'tmid', 'year', 'total_fg_pct']\n",
      "Accuracy:0.8461538461538461\n",
      "\n",
      "Selected Features: ['rank', 'coach_playoffs_count', 'team_players_rating', 'coach_awards', 'playoff_rank', 'total_orebounds_pct', 'team_rating', 'total_three_pct', 'tmid', 'year', 'total_fg_pct']\n",
      "Accuracy:0.8461538461538461\n",
      "\n",
      "\u001b[1mModel: Gradient Boosting\u001b[0m\n",
      "Selected Features: ['rank', 'team_players_rating', 'team_rating', 'total_drebounds_pct', 'total_ft_pct', 'tmid', 'coach_po_wr', 'year', 'total_gp', 'total_fg_pct', 'total_assists', 'player_awards']\n",
      "Accuracy:0.9230769230769231\n",
      "\n",
      "Selected Features: ['rank', 'team_players_rating', 'total_orebounds_pct', 'total_drebounds_pct', 'total_ft_pct', 'team_rating', 'tmid', 'coach_po_wr', 'year', 'total_gp', 'total_fg_pct', 'total_assists', 'player_awards']\n",
      "Accuracy:0.9230769230769231\n",
      "\n",
      "Selected Features: ['rank', 'team_players_rating', 'total_orebounds_pct', 'total_drebounds_pct', 'total_ft_pct', 'team_rating', 'tmid', 'coach_po_wr', 'year', 'total_gp', 'total_fg_pct', 'total_minutes', 'total_assists', 'player_awards']\n",
      "Accuracy:0.9230769230769231\n",
      "\n"
     ]
    }
   ],
   "source": [
    "min_features = 5\n",
    "\n",
    "rfe_classifiers = {\n",
    "    'Random Forest': RandomForestClassifier(random_state=42),\n",
    "    'Logistic Regression': LogisticRegression(random_state=42,max_iter=10000),\n",
    "    'Support Vector Machine': SVC(random_state=42, kernel='linear'),\n",
    "    'Gradient Boosting': GradientBoostingClassifier(random_state=42),\n",
    "}\n",
    "\n",
    "classifiers_features = {}\n",
    "\n",
    "total_features = len(x_train.columns)\n",
    "for model_name, model in rfe_classifiers.items():\n",
    "    print(f\"\\033[1mModel: {model_name}\\033[0m\")\n",
    "    \n",
    "    results = []\n",
    "\n",
    "    for i in range(min_features, total_features):\n",
    "        rfe = RFE(model, n_features_to_select=i)\n",
    "        rfe.fit(x_train, y_train)\n",
    "        \n",
    "        selected_features = set(x_train.columns[rfe.support_])\n",
    "        selected_features.add(\"tmid\")\n",
    "        selected_features.add(\"year\")\n",
    "        selected_features = list(selected_features)\n",
    "\n",
    "        model.fit(x_train[selected_features], y_train)\n",
    "\n",
    "        accuracy = model.score(x_test[selected_features], y_test)\n",
    "\n",
    "        results.append((selected_features, accuracy))\n",
    "\n",
    "    # Sort the results based on accuracy in descending order\n",
    "    results = sorted(results, key=lambda x: x[1], reverse=True)\n",
    "\n",
    "    classifiers_features[model_name] = results[0][0]\n",
    "    # Print the results\n",
    "    for features, accuracy in results[:3]:\n",
    "        print(\"Selected Features:\", features)\n",
    "        print(\"Accuracy:\" + str(accuracy) + '\\n')"
   ]
  },
  {
   "cell_type": "markdown",
   "metadata": {},
   "source": [
    "Since RFE doesn't work with KNN, we will be using SelectKBest which produces the same process"
   ]
  },
  {
   "cell_type": "code",
   "execution_count": 9,
   "metadata": {},
   "outputs": [
    {
     "name": "stdout",
     "output_type": "stream",
     "text": [
      "Selected Features: ['rank', 'coach_playoffs_count', 'team_players_rating', 'tmid', 'total_assists', 'total_gs', 'year', 'total_steals', 'coach_po_wr', 'total_minutes', 'total_points', 'coach_reg_wr', 'player_awards']\n",
      "Accuracy:0.6923076923076923\n",
      "\n",
      "Selected Features: ['rank', 'coach_playoffs_count', 'total_blocks', 'total_dq', 'team_players_rating', 'playoff_rank', 'tmid', 'total_assists', 'total_three_pct', 'total_gs', 'total_steals', 'coach_po_wr', 'year', 'total_minutes', 'total_points', 'coach_reg_wr']\n",
      "Accuracy:0.6923076923076923\n",
      "\n",
      "Selected Features: ['coach_playoffs_count', 'team_players_rating', 'total_blocks', 'total_dq', 'playoff_rank', 'tmid', 'total_assists', 'total_three_pct', 'total_gs', 'year', 'total_steals', 'total_pf', 'total_minutes', 'total_points', 'coach_reg_wr', 'player_awards']\n",
      "Accuracy:0.6923076923076923\n",
      "\n"
     ]
    }
   ],
   "source": [
    "from sklearn.feature_selection import SelectKBest, mutual_info_classif\n",
    "results = []\n",
    "\n",
    "for i in range(min_features, total_features):\n",
    "    knn = KNeighborsClassifier()\n",
    "\n",
    "    selector = SelectKBest(score_func=mutual_info_classif, k=i)\n",
    "    selector.fit(x_train, y_train)\n",
    "\n",
    "\n",
    "    selected_features = set(x_train.columns[selector.get_support()])\n",
    "    selected_features.add(\"tmid\")\n",
    "    selected_features.add(\"year\")\n",
    "    selected_features = list(selected_features)\n",
    "\n",
    "    knn.fit(x_train[selected_features], y_train)\n",
    "\n",
    "    accuracy = knn.score(x_test[selected_features], y_test)\n",
    "\n",
    "    results.append((selected_features, accuracy))\n",
    "\n",
    "results = sorted(results, key=lambda x: x[1], reverse=True)\n",
    "\n",
    "classifiers_features[\"K-Nearest Neighbors\"] = results[0][0]\n",
    "\n",
    "# Print the best 3 results\n",
    "for features, accuracy in results[:3]:\n",
    "    print(\"Selected Features:\", features)\n",
    "    print(\"Accuracy:\" + str(accuracy) + '\\n')"
   ]
  },
  {
   "cell_type": "markdown",
   "metadata": {},
   "source": [
    "#### GridSearch\n",
    "Now that we know the best features for each model, we will use gridsearch to fine tune its parameters."
   ]
  },
  {
   "cell_type": "code",
   "execution_count": 29,
   "metadata": {},
   "outputs": [
    {
     "name": "stdout",
     "output_type": "stream",
     "text": [
      "0.11930465698242188\n",
      "0.013770580291748047\n",
      "0.005156040191650391\n",
      "0.06937360763549805\n",
      "0.004937648773193359\n"
     ]
    },
    {
     "name": "stderr",
     "output_type": "stream",
     "text": [
      "/home/oliveira/.local/lib/python3.10/site-packages/sklearn/linear_model/_logistic.py:460: ConvergenceWarning: lbfgs failed to converge (status=1):\n",
      "STOP: TOTAL NO. of ITERATIONS REACHED LIMIT.\n",
      "\n",
      "Increase the number of iterations (max_iter) or scale the data as shown in:\n",
      "    https://scikit-learn.org/stable/modules/preprocessing.html\n",
      "Please also refer to the documentation for alternative solver options:\n",
      "    https://scikit-learn.org/stable/modules/linear_model.html#logistic-regression\n",
      "  n_iter_i = _check_optimize_result(\n"
     ]
    }
   ],
   "source": [
    "#best_params = fs.grid_search(classifiers_features,x_train,x_test,y_train,y_test)\n",
    "#print(best_params)\n",
    "\n",
    "# Random Forest -> {'bootstrap': False, 'criterion': 'entropy', 'max_depth': None, 'max_features': 'sqrt', 'min_samples_leaf': 1, 'min_samples_split': 10, 'n_estimators': 50}\n",
    "\n",
    "# Logistic -> {'C': 100, 'fit_intercept': False, 'penalty': 'l1', 'solver': 'liblinear'}\n",
    "\n",
    "# SVM -> {'C': 10, 'gamma': 'scale', 'kernel': 'linear'}\n",
    "\n",
    "# Gradient -> {'learning_rate': 0.01, 'max_depth': 7, 'n_estimators': 50}\n",
    "\n",
    "# KNN ->  {'n_neighbors': 10, 'p': 2, 'weights': 'uniform'}\n",
    "\n",
    "import time\n",
    "\n",
    "model_params = {'Random Forest': {'random_state':42, 'bootstrap': False, 'criterion': 'entropy', 'max_depth': None, 'max_features': 'sqrt', 'min_samples_leaf': 1, 'min_samples_split': 10, 'n_estimators': 50}, 'Logistic Regression': {'random_state':42, 'C': 100, 'fit_intercept': False, 'penalty': 'l1', 'solver': 'liblinear', 'max_iter': 10000}, 'Support Vector Machine': {'random_state':42, 'C': 10, 'gamma': 'scale', 'kernel': 'linear'}, 'Gradient Boosting': {'random_state':42,'learning_rate': 0.01, 'max_depth': 7, 'n_estimators': 50}, 'K-Nearest Neighbors': {'n_neighbors': 10, 'p': 2, 'weights': 'uniform'}}\n",
    "\n",
    "final_classifiers = {\n",
    "    'Random Forest': RandomForestClassifier(random_state =42),\n",
    "    'Logistic Regression': LogisticRegression(random_state =42),\n",
    "    'Support Vector Machine': SVC(random_state =42),\n",
    "    'Gradient Boosting': GradientBoostingClassifier(random_state =42),\n",
    "    'K-Nearest Neighbors': KNeighborsClassifier(),\n",
    "}\n",
    "\n",
    "for model_name, model in final_classifiers.items():\n",
    "    start = time.time()\n",
    "    model.fit(x_train[classifiers_features[model_name]], y_train)\n",
    "    y_pred = model.predict(x_test[classifiers_features[model_name]])\n",
    "    \n",
    "    accuracy = accuracy_score(y_test, y_pred)\n",
    "    auc = roc_auc_score(y_test, y_pred)\n",
    "    end = time.time()\n",
    "    print(f'Accuracy for {model_name}: {accuracy}')\n",
    "    print(f'AUC for {model_name}: {auc}')\n",
    "    print(end-start)\n"
   ]
  },
  {
   "cell_type": "code",
   "execution_count": null,
   "metadata": {},
   "outputs": [],
   "source": []
  }
 ],
 "metadata": {
  "kernelspec": {
   "display_name": "Python 3",
   "language": "python",
   "name": "python3"
  },
  "language_info": {
   "codemirror_mode": {
    "name": "ipython",
    "version": 3
   },
   "file_extension": ".py",
   "mimetype": "text/x-python",
   "name": "python",
   "nbconvert_exporter": "python",
   "pygments_lexer": "ipython3",
   "version": "3.10.12"
  }
 },
 "nbformat": 4,
 "nbformat_minor": 2
}
