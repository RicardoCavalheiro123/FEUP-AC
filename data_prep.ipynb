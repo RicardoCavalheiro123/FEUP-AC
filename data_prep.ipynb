{
 "cells": [
  {
   "cell_type": "markdown",
   "metadata": {},
   "source": [
    "## ***Machine Learning - WNBA Playoffs Prediction*** \n",
    "This notebook will focus on the preparation of the data. We will be using SQLite to store the data due to its scalability & the fact that it's a relational schema.\n",
    "\n",
    "https://docs.python.org/3/library/sqlite3.html\n",
    "\n",
    "Import sqlite3 and connect to database file"
   ]
  },
  {
   "cell_type": "markdown",
   "metadata": {},
   "source": [
    "### **Imports**"
   ]
  },
  {
   "cell_type": "code",
   "execution_count": 30,
   "metadata": {},
   "outputs": [],
   "source": [
    "import pandas as pd\n",
    "import sqlite3\n",
    "from prep_utils import check_missing_values,parse_columns_types,calculate_summary_statistics"
   ]
  },
  {
   "cell_type": "markdown",
   "metadata": {},
   "source": [
    "### **Database Connection Setup**"
   ]
  },
  {
   "cell_type": "code",
   "execution_count": 31,
   "metadata": {},
   "outputs": [],
   "source": [
    "import sqlite3\n",
    "db = sqlite3.connect(\"db/ac.db\")\n",
    "db_cur = db.cursor()\n"
   ]
  },
  {
   "cell_type": "markdown",
   "metadata": {},
   "source": [
    "**Descriptive Statistics**\n",
    "\n",
    "Descriptive statistics offer valuable metrics for understanding and summarizing data, assisting in data analysis and decision-making."
   ]
  },
  {
   "cell_type": "code",
   "execution_count": 32,
   "metadata": {},
   "outputs": [
    {
     "name": "stdout",
     "output_type": "stream",
     "text": [
      "+-------------+---------+-----------+-----------------+-------+-------+\n",
      "| Attribute   |   Count |      Mean |   Std Deviation |   Min |   Max |\n",
      "+=============+=========+===========+=================+=======+=======+\n",
      "| year        |     162 |  5.31481  |            8.39 |     1 |    10 |\n",
      "+-------------+---------+-----------+-----------------+-------+-------+\n",
      "| stint       |     162 |  0.364198 |            0.48 |     0 |     2 |\n",
      "+-------------+---------+-----------+-----------------+-------+-------+\n",
      "| won         |     162 | 14.6728   |           41    |     0 |    28 |\n",
      "+-------------+---------+-----------+-----------------+-------+-------+\n",
      "| lost        |     162 | 14.6235   |           32.25 |     2 |    30 |\n",
      "+-------------+---------+-----------+-----------------+-------+-------+\n",
      "| post_wins   |     162 |  1.16667  |            3.82 |     0 |     7 |\n",
      "+-------------+---------+-----------+-----------------+-------+-------+\n",
      "| post_losses |     162 |  1.17284  |            1.73 |     0 |     5 |\n",
      "+-------------+---------+-----------+-----------------+-------+-------+\n"
     ]
    }
   ],
   "source": [
    "column_names = [\"coachID\",\"year\",\"tmID\",\"lgID\",\"stint\",\"won\",\"lost\",\"post_wins\",\"post_losses\"]\n",
    "num, non_num = parse_columns_types(db_cur,column_names,\"coaches\")\n",
    "calculate_summary_statistics(db_cur,\"coaches\",num)"
   ]
  },
  {
   "cell_type": "markdown",
   "metadata": {},
   "source": [
    "**Checking for missing values (N/A)**\n",
    "\n",
    "It's normal for large datasets to have missing values, which needs to be handled early on."
   ]
  },
  {
   "cell_type": "code",
   "execution_count": 33,
   "metadata": {},
   "outputs": [
    {
     "name": "stdout",
     "output_type": "stream",
     "text": [
      "Column 'coachID' has missing values: False\n",
      "Column 'year' has missing values: False\n",
      "Column 'tmID' has missing values: False\n",
      "Column 'lgID' has missing values: False\n",
      "Column 'stint' has missing values: False\n",
      "Column 'won' has missing values: False\n",
      "Column 'lost' has missing values: False\n",
      "Column 'post_wins' has missing values: False\n",
      "Column 'post_losses' has missing values: False\n"
     ]
    }
   ],
   "source": [
    "check_missing_values(db_cur,column_names,\"coaches\")"
   ]
  },
  {
   "cell_type": "code",
   "execution_count": 34,
   "metadata": {},
   "outputs": [],
   "source": [
    "#coaches = db_cur.execute(\"SELECT * FROM coaches\")\n",
    "#coaches.fetchall()"
   ]
  },
  {
   "cell_type": "code",
   "execution_count": 35,
   "metadata": {},
   "outputs": [
    {
     "data": {
      "text/plain": [
       "('abrahta01w',\n",
       " 'C',\n",
       " 0,\n",
       " 0,\n",
       " 74.0,\n",
       " 190,\n",
       " 'George Washington',\n",
       " '',\n",
       " '1975-09-27',\n",
       " '0000-00-00')"
      ]
     },
     "execution_count": 35,
     "metadata": {},
     "output_type": "execute_result"
    }
   ],
   "source": [
    "# Get first player from query\n",
    "players = db_cur.execute(\"SELECT * FROM players\")\n",
    "players.fetchone()"
   ]
  },
  {
   "cell_type": "code",
   "execution_count": 36,
   "metadata": {},
   "outputs": [],
   "source": [
    "#db.close()"
   ]
  }
 ],
 "metadata": {
  "kernelspec": {
   "display_name": "Python 3",
   "language": "python",
   "name": "python3"
  },
  "language_info": {
   "codemirror_mode": {
    "name": "ipython",
    "version": 3
   },
   "file_extension": ".py",
   "mimetype": "text/x-python",
   "name": "python",
   "nbconvert_exporter": "python",
   "pygments_lexer": "ipython3",
   "version": "3.10.12"
  },
  "orig_nbformat": 4
 },
 "nbformat": 4,
 "nbformat_minor": 2
}
